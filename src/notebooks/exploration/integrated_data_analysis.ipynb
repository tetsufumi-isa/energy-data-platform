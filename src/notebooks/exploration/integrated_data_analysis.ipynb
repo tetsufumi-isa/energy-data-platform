{
 "cells": [
  {
   "cell_type": "code",
   "execution_count": 1,
   "id": "c79ad493-2662-4ecf-8e96-c33cd63f3c68",
   "metadata": {
    "scrolled": true
   },
   "outputs": [
    {
     "name": "stdout",
     "output_type": "stream",
     "text": [
      "📦 ライブラリインポート完了\n",
      "✅ BigQuery接続成功！\n"
     ]
    },
    {
     "name": "stderr",
     "output_type": "stream",
     "text": [
      "C:\\Users\\tetsu\\dev\\energy-env\\energy-env\\Lib\\site-packages\\google\\cloud\\bigquery\\table.py:1965: UserWarning: BigQuery Storage module not found, fetch data with the REST endpoint instead.\n",
      "  warnings.warn(\n"
     ]
    },
    {
     "name": "stdout",
     "output_type": "stream",
     "text": [
      "\n",
      "📊 統合ビューの基本情報:\n",
      "   total_records  start_date    end_date  unique_dates\n",
      "0         197856  2023-01-01  2025-07-04           916\n"
     ]
    }
   ],
   "source": [
    "# BigQuery接続テスト & 環境確認\n",
    "from google.cloud import bigquery\n",
    "import pandas as pd\n",
    "import numpy as np\n",
    "import matplotlib.pyplot as plt\n",
    "import seaborn as sns\n",
    "\n",
    "# 日本語フォント設定（グラフ用）\n",
    "plt.rcParams['font.family'] = 'DejaVu Sans'\n",
    "\n",
    "print(\"📦 ライブラリインポート完了\")\n",
    "\n",
    "# BigQueryクライアント初期化\n",
    "client = bigquery.Client(project='energy-env')\n",
    "print(\"✅ BigQuery接続成功！\")"
   ]
  }
 ],
 "metadata": {
  "kernelspec": {
   "display_name": "Python 3 (ipykernel)",
   "language": "python",
   "name": "python3"
  },
  "language_info": {
   "codemirror_mode": {
    "name": "ipython",
    "version": 3
   },
   "file_extension": ".py",
   "mimetype": "text/x-python",
   "name": "python",
   "nbconvert_exporter": "python",
   "pygments_lexer": "ipython3",
   "version": "3.12.10"
  }
 },
 "nbformat": 4,
 "nbformat_minor": 5
}
