{
 "cells": [
  {
   "cell_type": "code",
   "execution_count": 1,
   "id": "00207230-b431-47e0-bf24-65dc7376537e",
   "metadata": {},
   "outputs": [],
   "source": [
    "import os\n",
    "import zipfile\n",
    "import requests\n",
    "from datetime import datetime, timedelta"
   ]
  },
  {
   "cell_type": "code",
   "execution_count": 2,
   "id": "a51fde16-716d-449a-8741-e4ad4ed17790",
   "metadata": {},
   "outputs": [
    {
     "name": "stdout",
     "output_type": "stream",
     "text": [
      "📥 ダウンロード中: https://www.tepco.co.jp/forecast/html/images/202505_power_usage.zip\n",
      "✅ 202505 のデータを保存しました: C:/Users/tetsu/Documents/energy-env\\202505\n",
      "📥 ダウンロード中: https://www.tepco.co.jp/forecast/html/images/202504_power_usage.zip\n",
      "✅ 202504 のデータを保存しました: C:/Users/tetsu/Documents/energy-env\\202504\n"
     ]
    }
   ],
   "source": [
    "# 保存先ディレクトリ\n",
    "base_dir = 'C:/Users/tetsu/Documents/energy-env'\n",
    "\n",
    "# 今日と前月のyyyymmを取得\n",
    "today = datetime.today()\n",
    "yyyymms = [\n",
    "    today.strftime('%Y%m'),\n",
    "    (today.replace(day=1) - timedelta(days=1)).strftime('%Y%m')\n",
    "]\n",
    "\n",
    "# 2ヶ月分の処理\n",
    "for yyyymm in yyyymms:\n",
    "    url = f'https://www.tepco.co.jp/forecast/html/images/{yyyymm}_power_usage.zip'\n",
    "    save_dir = os.path.join(base_dir, yyyymm)\n",
    "    zip_path = os.path.join(save_dir, f'{yyyymm}.zip')\n",
    "\n",
    "    try:\n",
    "        # ディレクトリ作成・初期化\n",
    "        os.makedirs(save_dir, exist_ok=True)\n",
    "\n",
    "        # zipダウンロード\n",
    "        print(f'📥 ダウンロード中: {url}')\n",
    "        res = requests.get(url)\n",
    "        res.raise_for_status()\n",
    "\n",
    "        # zip保存\n",
    "        with open(zip_path, 'wb') as f:\n",
    "            f.write(res.content)\n",
    "\n",
    "        # zip解凍\n",
    "        with zipfile.ZipFile(zip_path, 'r') as zip_ref:\n",
    "            zip_ref.extractall(save_dir)\n",
    "\n",
    "        print(f'✅ {yyyymm} のデータを保存しました: {save_dir}')\n",
    "\n",
    "    except Exception as e:\n",
    "        print(f'⚠️ {yyyymm} の取得に失敗しました: {e}')"
   ]
  }
 ],
 "metadata": {
  "kernelspec": {
   "display_name": "Python 3 (ipykernel)",
   "language": "python",
   "name": "python3"
  },
  "language_info": {
   "codemirror_mode": {
    "name": "ipython",
    "version": 3
   },
   "file_extension": ".py",
   "mimetype": "text/x-python",
   "name": "python",
   "nbconvert_exporter": "python",
   "pygments_lexer": "ipython3",
   "version": "3.9.21"
  }
 },
 "nbformat": 4,
 "nbformat_minor": 5
}
